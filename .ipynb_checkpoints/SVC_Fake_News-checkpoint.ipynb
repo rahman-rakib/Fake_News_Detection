{
 "cells": [
  {
   "cell_type": "code",
   "execution_count": 40,
   "metadata": {},
   "outputs": [],
   "source": [
    "import numpy as np\n",
    "import pandas as pd\n",
    "import matplotlib.pyplot as plt \n",
    "import seaborn as sns\n",
    "import itertools\n",
    "\n",
    "%matplotlib inline"
   ]
  },
  {
   "cell_type": "code",
   "execution_count": 41,
   "metadata": {},
   "outputs": [],
   "source": [
    "df = pd.read_csv('news.csv', index_col=0)"
   ]
  },
  {
   "cell_type": "code",
   "execution_count": 42,
   "metadata": {},
   "outputs": [],
   "source": [
    "from sklearn.model_selection import train_test_split\n",
    "\n",
    "text_train, text_test, label_train, label_test =\\\n",
    "train_test_split(df['text'],df['label'],test_size=0.3,random_state=101)"
   ]
  },
  {
   "cell_type": "code",
   "execution_count": 43,
   "metadata": {},
   "outputs": [
    {
     "name": "stdout",
     "output_type": "stream",
     "text": [
      "0.909\n",
      "0.887\n"
     ]
    }
   ],
   "source": [
    "from sklearn.pipeline import Pipeline\n",
    "from sklearn.feature_extraction.text import CountVectorizer, TfidfTransformer\n",
    "from sklearn.linear_model import LogisticRegression\n",
    "from sklearn.model_selection import GridSearchCV\n",
    "from sklearn.metrics import accuracy_score, precision_score\n",
    "\n",
    "#max_features_range = np.arange(1,6,1)\n",
    "#n_estimators_range = np.arange(10,210,10)\n",
    "#param_grid = dict(max_features=max_features_range, n_estimators=n_estimators_range)\n",
    "\n",
    "#grid = GridSearchCV(estimator=RandomForestClassifier(), param_grid=param_grid, cv=5)\n",
    "\n",
    "# pipeline = Pipeline([('bow',CountVectorizer()),('tfidf',TfidfTransformer()),\n",
    "#                      ('classifier',grid)])\n",
    "pipeline = Pipeline([('bow',CountVectorizer()),('tfidf',TfidfTransformer()),\n",
    "                     ('classifier',LogisticRegression())])\n",
    "pipeline.fit(text_train,label_train)\n",
    "label_pred = pipeline.predict(text_test)\n",
    "print(round(accuracy_score(label_test,label_pred),3))\n",
    "print(round(precision_score(label_test,label_pred,pos_label='FAKE'),3))"
   ]
  },
  {
   "cell_type": "code",
   "execution_count": 44,
   "metadata": {},
   "outputs": [
    {
     "name": "stdout",
     "output_type": "stream",
     "text": [
      "0.909\n",
      "0.887\n"
     ]
    }
   ],
   "source": [
    "pipeline2 = Pipeline([('bow',CountVectorizer()),('tfidf',TfidfTransformer()),\n",
    "                     ('classifier',LogisticRegression())])\n",
    "pipeline2.fit(text_train,label_train)\n",
    "label_pred = pipeline2.predict(text_test)\n",
    "print(round(accuracy_score(label_test,label_pred),3))\n",
    "print(round(precision_score(label_test,label_pred,pos_label='FAKE'),3))"
   ]
  },
  {
   "cell_type": "code",
   "execution_count": 45,
   "metadata": {},
   "outputs": [
    {
     "name": "stdout",
     "output_type": "stream",
     "text": [
      "0.909\n",
      "0.887\n"
     ]
    }
   ],
   "source": [
    "pipeline3 = Pipeline([('bow',CountVectorizer()),('tfidf',TfidfTransformer()),\n",
    "                     ('classifier',LogisticRegression())])\n",
    "pipeline3.fit(text_train,label_train)\n",
    "label_pred = pipeline3.predict(text_test)\n",
    "print(round(accuracy_score(label_test,label_pred),3))\n",
    "print(round(precision_score(label_test,label_pred,pos_label='FAKE'),3))"
   ]
  },
  {
   "cell_type": "code",
   "execution_count": 46,
   "metadata": {},
   "outputs": [],
   "source": [
    "# print(grid.best_params_, grid.best_score_)"
   ]
  }
 ],
 "metadata": {
  "kernelspec": {
   "display_name": "Python 3",
   "language": "python",
   "name": "python3"
  },
  "language_info": {
   "codemirror_mode": {
    "name": "ipython",
    "version": 3
   },
   "file_extension": ".py",
   "mimetype": "text/x-python",
   "name": "python",
   "nbconvert_exporter": "python",
   "pygments_lexer": "ipython3",
   "version": "3.8.3"
  }
 },
 "nbformat": 4,
 "nbformat_minor": 4
}
